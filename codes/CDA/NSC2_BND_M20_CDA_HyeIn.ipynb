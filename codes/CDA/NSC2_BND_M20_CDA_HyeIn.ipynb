{
 "cells": [
  {
   "cell_type": "markdown",
   "id": "1d8cdccf-dc2f-4c2d-809a-37ad0fae1108",
   "metadata": {},
   "source": [
    "### 확증적 데이터 분석(Confirmatory Data Analysis)\n",
    "1. 목표변수 : 심결요양급여비용총액(ED_RC_TOT_AMT)\n",
    "2. 설명변수\n",
    "    - 연속형 : MDCARE_DD_CNT(요양일수), 입내원일수(VSHSP_DD_CNT), TOT_PRSC_DD_CNT(총처방일수)\n",
    "    - 범주형 : 수술여부(OPRTN_YN), 공상 등 구분(OFIJ_TYPE)"
   ]
  },
  {
   "cell_type": "code",
   "execution_count": 1,
   "id": "68d66dbe-c787-431a-bc5a-12a2f19306f9",
   "metadata": {
    "tags": []
   },
   "outputs": [],
   "source": [
    "import matplotlib.pyplot as plt\n",
    "# 한글처리\n",
    "import matplotlib as mpl\n",
    "mpl.rc('font',family='Malgun Gothic')\n",
    "import seaborn as sns\n",
    "import pandas as pd\n",
    "import scipy.stats as stats"
   ]
  },
  {
   "cell_type": "code",
   "execution_count": 6,
   "id": "91314bea-d4ee-4493-8d04-265f63b52b4e",
   "metadata": {
    "tags": []
   },
   "outputs": [
    {
     "data": {
      "text/html": [
       "<div>\n",
       "<style scoped>\n",
       "    .dataframe tbody tr th:only-of-type {\n",
       "        vertical-align: middle;\n",
       "    }\n",
       "\n",
       "    .dataframe tbody tr th {\n",
       "        vertical-align: top;\n",
       "    }\n",
       "\n",
       "    .dataframe thead th {\n",
       "        text-align: right;\n",
       "    }\n",
       "</style>\n",
       "<table border=\"1\" class=\"dataframe\">\n",
       "  <thead>\n",
       "    <tr style=\"text-align: right;\">\n",
       "      <th></th>\n",
       "      <th>Unnamed: 0</th>\n",
       "      <th>OFIJ_TYPE</th>\n",
       "      <th>OPRTN_YN</th>\n",
       "      <th>MDCARE_DD_CNT</th>\n",
       "      <th>VSHSP_DD_CNT</th>\n",
       "      <th>TOT_PRSC_DD_CNT</th>\n",
       "      <th>ED_RC_TOT_AMT</th>\n",
       "    </tr>\n",
       "  </thead>\n",
       "  <tbody>\n",
       "    <tr>\n",
       "      <th>0</th>\n",
       "      <td>0</td>\n",
       "      <td>0</td>\n",
       "      <td>0</td>\n",
       "      <td>1</td>\n",
       "      <td>1</td>\n",
       "      <td>30</td>\n",
       "      <td>7570</td>\n",
       "    </tr>\n",
       "    <tr>\n",
       "      <th>1</th>\n",
       "      <td>1</td>\n",
       "      <td>0</td>\n",
       "      <td>0</td>\n",
       "      <td>2</td>\n",
       "      <td>2</td>\n",
       "      <td>60</td>\n",
       "      <td>18160</td>\n",
       "    </tr>\n",
       "  </tbody>\n",
       "</table>\n",
       "</div>"
      ],
      "text/plain": [
       "   Unnamed: 0 OFIJ_TYPE  OPRTN_YN  MDCARE_DD_CNT  VSHSP_DD_CNT  \\\n",
       "0           0         0         0              1             1   \n",
       "1           1         0         0              2             2   \n",
       "\n",
       "   TOT_PRSC_DD_CNT  ED_RC_TOT_AMT  \n",
       "0               30           7570  \n",
       "1               60          18160  "
      ]
     },
     "execution_count": 6,
     "metadata": {},
     "output_type": "execute_result"
    }
   ],
   "source": [
    "df_NBM = pd.read_csv('../../dataset/df_NBM.csv')\n",
    "df_NBM.head(2)"
   ]
  },
  {
   "cell_type": "code",
   "execution_count": 7,
   "id": "fcfff1cd-8e4a-4831-bbb7-a6fd4182a3c7",
   "metadata": {
    "tags": []
   },
   "outputs": [
    {
     "name": "stdout",
     "output_type": "stream",
     "text": [
      "<class 'pandas.core.frame.DataFrame'>\n",
      "RangeIndex: 4629 entries, 0 to 4628\n",
      "Data columns (total 7 columns):\n",
      " #   Column           Non-Null Count  Dtype \n",
      "---  ------           --------------  ----- \n",
      " 0   Unnamed: 0       4629 non-null   int64 \n",
      " 1   OFIJ_TYPE        4522 non-null   object\n",
      " 2   OPRTN_YN         4629 non-null   int64 \n",
      " 3   MDCARE_DD_CNT    4629 non-null   int64 \n",
      " 4   VSHSP_DD_CNT     4629 non-null   int64 \n",
      " 5   TOT_PRSC_DD_CNT  4629 non-null   int64 \n",
      " 6   ED_RC_TOT_AMT    4629 non-null   int64 \n",
      "dtypes: int64(6), object(1)\n",
      "memory usage: 253.3+ KB\n"
     ]
    }
   ],
   "source": [
    "df_NBM.info()"
   ]
  },
  {
   "cell_type": "code",
   "execution_count": null,
   "id": "0225a0a8-dbd3-4091-9d0a-d4a042a860ec",
   "metadata": {
    "tags": []
   },
   "outputs": [],
   "source": [
    "# 결측치 처리\n",
    "df_NBM = df_NBM.dropna()\n",
    "df_NBM.info()"
   ]
  },
  {
   "cell_type": "code",
   "execution_count": 10,
   "id": "76e3a663-78d9-4eb7-83c9-a6654663d70d",
   "metadata": {
    "tags": []
   },
   "outputs": [
    {
     "name": "stderr",
     "output_type": "stream",
     "text": [
      "C:\\Users\\koreavc\\AppData\\Local\\Temp\\ipykernel_1296\\4004767644.py:2: SettingWithCopyWarning: \n",
      "A value is trying to be set on a copy of a slice from a DataFrame.\n",
      "Try using .loc[row_indexer,col_indexer] = value instead\n",
      "\n",
      "See the caveats in the documentation: https://pandas.pydata.org/pandas-docs/stable/user_guide/indexing.html#returning-a-view-versus-a-copy\n",
      "  df_NBM['OPRTN_YN'] = df_NBM['OPRTN_YN'].astype(str)\n"
     ]
    },
    {
     "data": {
      "text/plain": [
       "Unnamed: 0          int64\n",
       "OFIJ_TYPE          object\n",
       "OPRTN_YN           object\n",
       "MDCARE_DD_CNT       int64\n",
       "VSHSP_DD_CNT        int64\n",
       "TOT_PRSC_DD_CNT     int64\n",
       "ED_RC_TOT_AMT       int64\n",
       "dtype: object"
      ]
     },
     "execution_count": 10,
     "metadata": {},
     "output_type": "execute_result"
    }
   ],
   "source": [
    "# 데이터타입 변환\n",
    "df_NBM['OPRTN_YN'] = df_NBM['OPRTN_YN'].astype(str)\n",
    "df_NBM.dtypes"
   ]
  },
  {
   "cell_type": "markdown",
   "id": "cab312f5-6a61-4aef-9a81-9f15a82a84bc",
   "metadata": {},
   "source": [
    "#### 연속형/연속형 확인"
   ]
  },
  {
   "cell_type": "markdown",
   "id": "ff046645-c161-4ac2-b4e5-d57e93bb075a",
   "metadata": {},
   "source": [
    "##### 선정 변수 : 요양일수(MDCARE_DD_CNT), 심결요양급여비용총액(ED_RC_TOT_AMT)\n",
    "- 분석 내용 : 요양일수에 따라서 심결요양급여비용총액에 변화가 있는가?\n",
    "    - 귀무가설: 요양일수에 따라서 심결요양급여비용총액에 변화가 없다.\n",
    "    - 대립가설: 요양일수에 따라서 심결요양급여비용총액에 변화가 있다.\n",
    "- 분석 결론 (기준 - P.value 0.05)\n",
    "    - 통계 결론: pvalue=1.930071568431899e-257, 대립가설 참\n",
    "    - 사실 결론: 요양일수에 따라서 심결요양급여비용총액에 변화가 있다."
   ]
  },
  {
   "cell_type": "code",
   "execution_count": 12,
   "id": "1be3f421-4bb7-414c-b1ed-2e8f5806e45c",
   "metadata": {
    "tags": []
   },
   "outputs": [
    {
     "data": {
      "text/html": [
       "<div>\n",
       "<style scoped>\n",
       "    .dataframe tbody tr th:only-of-type {\n",
       "        vertical-align: middle;\n",
       "    }\n",
       "\n",
       "    .dataframe tbody tr th {\n",
       "        vertical-align: top;\n",
       "    }\n",
       "\n",
       "    .dataframe thead th {\n",
       "        text-align: right;\n",
       "    }\n",
       "</style>\n",
       "<table border=\"1\" class=\"dataframe\">\n",
       "  <thead>\n",
       "    <tr style=\"text-align: right;\">\n",
       "      <th></th>\n",
       "      <th>MDCARE_DD_CNT</th>\n",
       "      <th>ED_RC_TOT_AMT</th>\n",
       "    </tr>\n",
       "  </thead>\n",
       "  <tbody>\n",
       "    <tr>\n",
       "      <th>count</th>\n",
       "      <td>4522.000000</td>\n",
       "      <td>4.522000e+03</td>\n",
       "    </tr>\n",
       "    <tr>\n",
       "      <th>mean</th>\n",
       "      <td>1.935206</td>\n",
       "      <td>1.570952e+04</td>\n",
       "    </tr>\n",
       "    <tr>\n",
       "      <th>std</th>\n",
       "      <td>5.113747</td>\n",
       "      <td>6.047040e+04</td>\n",
       "    </tr>\n",
       "    <tr>\n",
       "      <th>min</th>\n",
       "      <td>1.000000</td>\n",
       "      <td>0.000000e+00</td>\n",
       "    </tr>\n",
       "    <tr>\n",
       "      <th>25%</th>\n",
       "      <td>1.000000</td>\n",
       "      <td>8.780000e+03</td>\n",
       "    </tr>\n",
       "    <tr>\n",
       "      <th>50%</th>\n",
       "      <td>1.000000</td>\n",
       "      <td>1.007000e+04</td>\n",
       "    </tr>\n",
       "    <tr>\n",
       "      <th>75%</th>\n",
       "      <td>1.000000</td>\n",
       "      <td>1.162000e+04</td>\n",
       "    </tr>\n",
       "    <tr>\n",
       "      <th>max</th>\n",
       "      <td>70.000000</td>\n",
       "      <td>2.138690e+06</td>\n",
       "    </tr>\n",
       "  </tbody>\n",
       "</table>\n",
       "</div>"
      ],
      "text/plain": [
       "       MDCARE_DD_CNT  ED_RC_TOT_AMT\n",
       "count    4522.000000   4.522000e+03\n",
       "mean        1.935206   1.570952e+04\n",
       "std         5.113747   6.047040e+04\n",
       "min         1.000000   0.000000e+00\n",
       "25%         1.000000   8.780000e+03\n",
       "50%         1.000000   1.007000e+04\n",
       "75%         1.000000   1.162000e+04\n",
       "max        70.000000   2.138690e+06"
      ]
     },
     "execution_count": 12,
     "metadata": {},
     "output_type": "execute_result"
    }
   ],
   "source": [
    "df_NBM[['MDCARE_DD_CNT','ED_RC_TOT_AMT']].describe()"
   ]
  },
  {
   "cell_type": "code",
   "execution_count": 14,
   "id": "e153bbfe-358b-429a-887c-589656966080",
   "metadata": {
    "tags": []
   },
   "outputs": [
    {
     "data": {
      "text/plain": [
       "SignificanceResult(statistic=0.47841756856833284, pvalue=1.930071568431899e-257)"
      ]
     },
     "execution_count": 14,
     "metadata": {},
     "output_type": "execute_result"
    }
   ],
   "source": [
    "stats.spearmanr(df_NBM['MDCARE_DD_CNT'], df_NBM['ED_RC_TOT_AMT'])"
   ]
  },
  {
   "cell_type": "markdown",
   "id": "d90e583f-dabc-47d3-baf3-ad29fd86a663",
   "metadata": {},
   "source": [
    "#### 연속형/범주형 확인"
   ]
  },
  {
   "cell_type": "markdown",
   "id": "56d6e1e9-4b6c-4991-b807-af64ae35ff11",
   "metadata": {},
   "source": [
    "##### 선정 변수 : 수술여부(OPRTN_YN), 심결요양급여비용총액(ED_RC_TOT_AMT)\n",
    "- 분석 내용 : 수술여부에 따라서 심결요양급여비용총액에 변화가 있는가?\n",
    "    - 귀무가설: 수술여부에 따라서 심결요양급여비용총액에 변화가 없다.\n",
    "    - 대립가설: 수술여부에 따라서 심결요양급여비용총액에 변화가 있다.\n",
    "- 분석 결론 (기준 - P.value 0.05)\n",
    "    - 통계 결론: \n",
    "    - 사실 결론: "
   ]
  },
  {
   "cell_type": "markdown",
   "id": "53abfa75-7abc-430c-9d93-0f3fa89e65dc",
   "metadata": {},
   "source": [
    "##### 선정 변수 : 공상 등 구분(OFIJ_TYPE), 심결요양급여비용총액(ED_RC_TOT_AMT)\n",
    "- 분석 내용 : 본인부담경감대상자여부에 따라서 심결요양급여비용총액에 변화가 있는가?\n",
    "    - 귀무가설: 본인부담경감대상자여부에 따라서 심결요양급여비용총액에 변화가 없다.\n",
    "    - 대립가설: 본인부담경감대상자여부에 따라서 심결요양급여비용총액에 변화가 있다.\n",
    "- 분석 결론 (기준 - P.value 0.05)\n",
    "    - 통계 결론: \n",
    "    - 사실 결론: "
   ]
  },
  {
   "cell_type": "code",
   "execution_count": null,
   "id": "cd393559-d28e-4307-8ed3-c9dc937a462c",
   "metadata": {},
   "outputs": [],
   "source": []
  },
  {
   "cell_type": "code",
   "execution_count": null,
   "id": "9c52a0e7-c529-460d-8cf5-8e0efa8748c3",
   "metadata": {},
   "outputs": [],
   "source": []
  }
 ],
 "metadata": {
  "kernelspec": {
   "display_name": "Python 3 (ipykernel)",
   "language": "python",
   "name": "python3"
  },
  "language_info": {
   "codemirror_mode": {
    "name": "ipython",
    "version": 3
   },
   "file_extension": ".py",
   "mimetype": "text/x-python",
   "name": "python",
   "nbconvert_exporter": "python",
   "pygments_lexer": "ipython3",
   "version": "3.11.3"
  }
 },
 "nbformat": 4,
 "nbformat_minor": 5
}
