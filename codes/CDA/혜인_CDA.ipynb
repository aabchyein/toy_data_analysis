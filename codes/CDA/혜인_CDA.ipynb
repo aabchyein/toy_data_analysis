{
 "cells": [
  {
   "cell_type": "markdown",
   "id": "1df92b5d-c25a-4e44-a366-0ff54b0966cf",
   "metadata": {},
   "source": [
    "### 확증적 데이터 분석(Confirmatory Data Analysis)\n",
    "1. 목표변수 : 입원기간\n",
    "2. 설명변수\n",
    "    - 연속형 : BMI, 연령\n",
    "    - 범주형 : 고혈압여부, 당뇨여부, 심혈관질환"
   ]
  },
  {
   "cell_type": "code",
   "execution_count": 24,
   "id": "40589af0-5780-406d-af4f-3f8ee0f22e30",
   "metadata": {
    "tags": []
   },
   "outputs": [],
   "source": [
    "import matplotlib.pyplot as plt\n",
    "# 한글처리\n",
    "import matplotlib as mpl\n",
    "mpl.rc('font',family='Malgun Gothic')\n",
    "import seaborn as sns\n",
    "import pandas as pd\n",
    "import scipy.stats as stats"
   ]
  },
  {
   "cell_type": "code",
   "execution_count": 25,
   "id": "19861969-4c22-456a-82c9-cc7c635f4d1d",
   "metadata": {
    "tags": []
   },
   "outputs": [
    {
     "data": {
      "text/html": [
       "<div>\n",
       "<style scoped>\n",
       "    .dataframe tbody tr th:only-of-type {\n",
       "        vertical-align: middle;\n",
       "    }\n",
       "\n",
       "    .dataframe tbody tr th {\n",
       "        vertical-align: top;\n",
       "    }\n",
       "\n",
       "    .dataframe thead th {\n",
       "        text-align: right;\n",
       "    }\n",
       "</style>\n",
       "<table border=\"1\" class=\"dataframe\">\n",
       "  <thead>\n",
       "    <tr style=\"text-align: right;\">\n",
       "      <th></th>\n",
       "      <th>Unnamed: 0</th>\n",
       "      <th>고혈압여부</th>\n",
       "      <th>당뇨여부</th>\n",
       "      <th>성별</th>\n",
       "      <th>스테로이드치료</th>\n",
       "      <th>신장</th>\n",
       "      <th>심혈관질환</th>\n",
       "      <th>연령</th>\n",
       "      <th>입원기간</th>\n",
       "      <th>체중</th>\n",
       "      <th>환자통증정도</th>\n",
       "      <th>수술시간</th>\n",
       "      <th>재발여부</th>\n",
       "    </tr>\n",
       "  </thead>\n",
       "  <tbody>\n",
       "    <tr>\n",
       "      <th>0</th>\n",
       "      <td>0</td>\n",
       "      <td>0</td>\n",
       "      <td>0</td>\n",
       "      <td>2</td>\n",
       "      <td>1</td>\n",
       "      <td>163</td>\n",
       "      <td>0</td>\n",
       "      <td>66</td>\n",
       "      <td>2</td>\n",
       "      <td>60.3</td>\n",
       "      <td>10</td>\n",
       "      <td>68.0</td>\n",
       "      <td>0</td>\n",
       "    </tr>\n",
       "    <tr>\n",
       "      <th>1</th>\n",
       "      <td>1</td>\n",
       "      <td>0</td>\n",
       "      <td>0</td>\n",
       "      <td>1</td>\n",
       "      <td>1</td>\n",
       "      <td>171</td>\n",
       "      <td>0</td>\n",
       "      <td>47</td>\n",
       "      <td>1</td>\n",
       "      <td>71.7</td>\n",
       "      <td>10</td>\n",
       "      <td>31.0</td>\n",
       "      <td>0</td>\n",
       "    </tr>\n",
       "  </tbody>\n",
       "</table>\n",
       "</div>"
      ],
      "text/plain": [
       "   Unnamed: 0  고혈압여부  당뇨여부  성별  스테로이드치료   신장  심혈관질환  연령  입원기간    체중  환자통증정도  \\\n",
       "0           0      0     0   2        1  163      0  66     2  60.3      10   \n",
       "1           1      0     0   1        1  171      0  47     1  71.7      10   \n",
       "\n",
       "   수술시간  재발여부  \n",
       "0  68.0     0  \n",
       "1  31.0     0  "
      ]
     },
     "execution_count": 25,
     "metadata": {},
     "output_type": "execute_result"
    }
   ],
   "source": [
    "df_ROS = pd.read_csv('../../dataset/RecurrenceOfSurgery_quest.csv')\n",
    "df_ROS.head(2)"
   ]
  },
  {
   "cell_type": "code",
   "execution_count": 26,
   "id": "c1702073-5d3d-4e8e-ab18-6c1e0331e593",
   "metadata": {
    "tags": []
   },
   "outputs": [
    {
     "data": {
      "text/html": [
       "<div>\n",
       "<style scoped>\n",
       "    .dataframe tbody tr th:only-of-type {\n",
       "        vertical-align: middle;\n",
       "    }\n",
       "\n",
       "    .dataframe tbody tr th {\n",
       "        vertical-align: top;\n",
       "    }\n",
       "\n",
       "    .dataframe thead th {\n",
       "        text-align: right;\n",
       "    }\n",
       "</style>\n",
       "<table border=\"1\" class=\"dataframe\">\n",
       "  <thead>\n",
       "    <tr style=\"text-align: right;\">\n",
       "      <th></th>\n",
       "      <th>신장</th>\n",
       "      <th>체중</th>\n",
       "      <th>고혈압여부</th>\n",
       "      <th>당뇨여부</th>\n",
       "      <th>심혈관질환</th>\n",
       "      <th>연령</th>\n",
       "      <th>입원기간</th>\n",
       "    </tr>\n",
       "  </thead>\n",
       "  <tbody>\n",
       "    <tr>\n",
       "      <th>0</th>\n",
       "      <td>163</td>\n",
       "      <td>60.3</td>\n",
       "      <td>0</td>\n",
       "      <td>0</td>\n",
       "      <td>0</td>\n",
       "      <td>66</td>\n",
       "      <td>2</td>\n",
       "    </tr>\n",
       "    <tr>\n",
       "      <th>1</th>\n",
       "      <td>171</td>\n",
       "      <td>71.7</td>\n",
       "      <td>0</td>\n",
       "      <td>0</td>\n",
       "      <td>0</td>\n",
       "      <td>47</td>\n",
       "      <td>1</td>\n",
       "    </tr>\n",
       "  </tbody>\n",
       "</table>\n",
       "</div>"
      ],
      "text/plain": [
       "    신장    체중  고혈압여부  당뇨여부  심혈관질환  연령  입원기간\n",
       "0  163  60.3      0     0      0  66     2\n",
       "1  171  71.7      0     0      0  47     1"
      ]
     },
     "execution_count": 26,
     "metadata": {},
     "output_type": "execute_result"
    }
   ],
   "source": [
    "df_ROS_patient = df_ROS[['신장','체중','고혈압여부','당뇨여부','심혈관질환','연령','입원기간']]\n",
    "df_ROS_patient[:2]"
   ]
  },
  {
   "cell_type": "code",
   "execution_count": 27,
   "id": "2b1a66bb-1fca-4ebe-b161-9a3feea198c3",
   "metadata": {
    "tags": []
   },
   "outputs": [
    {
     "name": "stdout",
     "output_type": "stream",
     "text": [
      "<class 'pandas.core.frame.DataFrame'>\n",
      "RangeIndex: 1894 entries, 0 to 1893\n",
      "Data columns (total 7 columns):\n",
      " #   Column  Non-Null Count  Dtype  \n",
      "---  ------  --------------  -----  \n",
      " 0   신장      1894 non-null   int64  \n",
      " 1   체중      1894 non-null   float64\n",
      " 2   고혈압여부   1894 non-null   object \n",
      " 3   당뇨여부    1894 non-null   object \n",
      " 4   심혈관질환   1894 non-null   object \n",
      " 5   연령      1894 non-null   int64  \n",
      " 6   입원기간    1894 non-null   int64  \n",
      "dtypes: float64(1), int64(3), object(3)\n",
      "memory usage: 103.7+ KB\n"
     ]
    },
    {
     "name": "stderr",
     "output_type": "stream",
     "text": [
      "C:\\Users\\koreavc\\AppData\\Local\\Temp\\ipykernel_10488\\668822120.py:2: SettingWithCopyWarning: \n",
      "A value is trying to be set on a copy of a slice from a DataFrame.\n",
      "Try using .loc[row_indexer,col_indexer] = value instead\n",
      "\n",
      "See the caveats in the documentation: https://pandas.pydata.org/pandas-docs/stable/user_guide/indexing.html#returning-a-view-versus-a-copy\n",
      "  df_ROS_patient[['고혈압여부','당뇨여부','심혈관질환']] = df_ROS_patient[['고혈압여부','당뇨여부','심혈관질환']].astype(str)\n"
     ]
    }
   ],
   "source": [
    "# 데이터 타입 변환(int -> str)\n",
    "df_ROS_patient[['고혈압여부','당뇨여부','심혈관질환']] = df_ROS_patient[['고혈압여부','당뇨여부','심혈관질환']].astype(str)\n",
    "df_ROS_patient.info()"
   ]
  },
  {
   "cell_type": "markdown",
   "id": "783ba7fb-e9e3-44f3-b0ce-673a59e4ed7f",
   "metadata": {
    "tags": []
   },
   "source": [
    "#### 연속형/연속형 확인 (목표변수:입원기간/설명변수:BMI, 연령)\n",
    "- 신장과 체중은 서로 관계가 있는 변수들로 판단됨\n",
    "- BMI(신장과 체중의 비율을 사용한 체중의 객관적인 지수) 컬럼을 추가함."
   ]
  },
  {
   "cell_type": "markdown",
   "id": "8eaa732e-9bb1-449a-a455-41c4e566e6ef",
   "metadata": {},
   "source": [
    "##### 선정 변수 : BMI, 입원기간\n",
    "- 분석 내용 : BMI에 따라서 입원기간에 변화가 있는가?\n",
    "    - 귀무가설: BMI에 따라서 입원기간에 변화가 없다.\n",
    "    - 대립가설: BMI에 따라서 입원기간에 변화가 있다.\n",
    "- 분석 결론 (기준 - P.value 0.05)\n",
    "    - 통계 결론: \n",
    "    - 사실 결론: "
   ]
  },
  {
   "cell_type": "code",
   "execution_count": 28,
   "id": "2625f80b-10a3-44cd-91e4-0175869f1abc",
   "metadata": {
    "tags": []
   },
   "outputs": [
    {
     "data": {
      "text/html": [
       "<div>\n",
       "<style scoped>\n",
       "    .dataframe tbody tr th:only-of-type {\n",
       "        vertical-align: middle;\n",
       "    }\n",
       "\n",
       "    .dataframe tbody tr th {\n",
       "        vertical-align: top;\n",
       "    }\n",
       "\n",
       "    .dataframe thead th {\n",
       "        text-align: right;\n",
       "    }\n",
       "</style>\n",
       "<table border=\"1\" class=\"dataframe\">\n",
       "  <thead>\n",
       "    <tr style=\"text-align: right;\">\n",
       "      <th></th>\n",
       "      <th>신장</th>\n",
       "      <th>체중</th>\n",
       "      <th>연령</th>\n",
       "      <th>입원기간</th>\n",
       "    </tr>\n",
       "  </thead>\n",
       "  <tbody>\n",
       "    <tr>\n",
       "      <th>count</th>\n",
       "      <td>1894.000000</td>\n",
       "      <td>1894.000000</td>\n",
       "      <td>1894.000000</td>\n",
       "      <td>1894.000000</td>\n",
       "    </tr>\n",
       "    <tr>\n",
       "      <th>mean</th>\n",
       "      <td>168.027983</td>\n",
       "      <td>68.111140</td>\n",
       "      <td>41.463569</td>\n",
       "      <td>1.736536</td>\n",
       "    </tr>\n",
       "    <tr>\n",
       "      <th>std</th>\n",
       "      <td>9.211419</td>\n",
       "      <td>11.234318</td>\n",
       "      <td>13.444629</td>\n",
       "      <td>2.344085</td>\n",
       "    </tr>\n",
       "    <tr>\n",
       "      <th>min</th>\n",
       "      <td>140.000000</td>\n",
       "      <td>35.000000</td>\n",
       "      <td>15.000000</td>\n",
       "      <td>0.000000</td>\n",
       "    </tr>\n",
       "    <tr>\n",
       "      <th>25%</th>\n",
       "      <td>161.000000</td>\n",
       "      <td>59.700000</td>\n",
       "      <td>32.000000</td>\n",
       "      <td>1.000000</td>\n",
       "    </tr>\n",
       "    <tr>\n",
       "      <th>50%</th>\n",
       "      <td>169.000000</td>\n",
       "      <td>68.000000</td>\n",
       "      <td>41.000000</td>\n",
       "      <td>1.000000</td>\n",
       "    </tr>\n",
       "    <tr>\n",
       "      <th>75%</th>\n",
       "      <td>175.000000</td>\n",
       "      <td>75.000000</td>\n",
       "      <td>49.000000</td>\n",
       "      <td>2.000000</td>\n",
       "    </tr>\n",
       "    <tr>\n",
       "      <th>max</th>\n",
       "      <td>204.000000</td>\n",
       "      <td>136.100000</td>\n",
       "      <td>86.000000</td>\n",
       "      <td>51.000000</td>\n",
       "    </tr>\n",
       "  </tbody>\n",
       "</table>\n",
       "</div>"
      ],
      "text/plain": [
       "                신장           체중           연령         입원기간\n",
       "count  1894.000000  1894.000000  1894.000000  1894.000000\n",
       "mean    168.027983    68.111140    41.463569     1.736536\n",
       "std       9.211419    11.234318    13.444629     2.344085\n",
       "min     140.000000    35.000000    15.000000     0.000000\n",
       "25%     161.000000    59.700000    32.000000     1.000000\n",
       "50%     169.000000    68.000000    41.000000     1.000000\n",
       "75%     175.000000    75.000000    49.000000     2.000000\n",
       "max     204.000000   136.100000    86.000000    51.000000"
      ]
     },
     "execution_count": 28,
     "metadata": {},
     "output_type": "execute_result"
    }
   ],
   "source": [
    "df_ROS_patient.describe()"
   ]
  },
  {
   "cell_type": "code",
   "execution_count": 29,
   "id": "049d8910-028b-4683-9c28-1d246d51bde1",
   "metadata": {
    "tags": []
   },
   "outputs": [
    {
     "data": {
      "text/plain": [
       "ShapiroResult(statistic=0.2543339729309082, pvalue=0.0)"
      ]
     },
     "execution_count": 29,
     "metadata": {},
     "output_type": "execute_result"
    }
   ],
   "source": [
    "# 목표 변수인 입원기간의 정규성 확인 -> 결과: pvalue=0.0, 비정규화\n",
    "stats.shapiro(df_ROS_patient['입원기간'])"
   ]
  },
  {
   "cell_type": "code",
   "execution_count": 63,
   "id": "f020c1ec-565c-4547-a1c0-66435c357af7",
   "metadata": {
    "tags": []
   },
   "outputs": [],
   "source": [
    "# BMI 구하기 (BMI = 체중 / 신장(m)의 제곱)\n",
    "def calculation (df_ROS_patient) :\n",
    "    weight = df_ROS_patient['체중']\n",
    "    height = df_ROS_patient['신장'] * 0.01\n",
    "    BMI = weight / (height * height)\n",
    "    return BMI"
   ]
  },
  {
   "cell_type": "code",
   "execution_count": 66,
   "id": "7683deb2-45ea-4d2d-8930-840560345cc2",
   "metadata": {
    "tags": []
   },
   "outputs": [
    {
     "name": "stderr",
     "output_type": "stream",
     "text": [
      "C:\\Users\\koreavc\\AppData\\Local\\Temp\\ipykernel_10488\\3258908706.py:1: SettingWithCopyWarning: \n",
      "A value is trying to be set on a copy of a slice from a DataFrame.\n",
      "Try using .loc[row_indexer,col_indexer] = value instead\n",
      "\n",
      "See the caveats in the documentation: https://pandas.pydata.org/pandas-docs/stable/user_guide/indexing.html#returning-a-view-versus-a-copy\n",
      "  df_ROS_patient['BMI'] = df_ROS_patient.apply(calculation, axis=1)\n"
     ]
    },
    {
     "data": {
      "text/plain": [
       "0       226956.227182\n",
       "1       245203.652406\n",
       "2       243340.487312\n",
       "3       245078.610120\n",
       "4       240974.648392\n",
       "            ...      \n",
       "1889    259645.421721\n",
       "1890    239360.623149\n",
       "1891    250995.015956\n",
       "1892    245778.671518\n",
       "1893    173611.111111\n",
       "Name: BMI, Length: 1894, dtype: float64"
      ]
     },
     "execution_count": 66,
     "metadata": {},
     "output_type": "execute_result"
    }
   ],
   "source": [
    "df_ROS_patient['BMI'] = df_ROS_patient.apply(calculation, axis=1)\n",
    "df_ROS_patient['BMI']"
   ]
  },
  {
   "cell_type": "markdown",
   "id": "34c93bd1-85f8-410a-9fea-dff085a8cd47",
   "metadata": {},
   "source": [
    "##### 선정 변수 : 연령, 입원기간\n",
    "- 분석 내용 : 연령에 따라서 입원기간에 변화가 있는가?\n",
    "    - 귀무가설: 연령에 따라서 입원기간에 변화가 없다.\n",
    "    - 대립가설: 연령에 따라서 입원기간에 변화가 있다.\n",
    "- 분석 결론 (기준 - P.value 0.05)\n",
    "    - 통계 결론: \n",
    "    - 사실 결론: "
   ]
  },
  {
   "cell_type": "markdown",
   "id": "c4a974f1-bf81-45f9-9b4c-2334f5d58a06",
   "metadata": {},
   "source": [
    "#### 연속형/범주형 확인 (목표변수:입원기간/설명변수:고혈압여부, 당뇨여부, 심혈관질환)"
   ]
  },
  {
   "cell_type": "markdown",
   "id": "e1a5f986-e6df-49a5-82b7-cbd6d54138c4",
   "metadata": {},
   "source": [
    "##### 선정 변수 : 고혈압여부, 입원기간"
   ]
  },
  {
   "cell_type": "markdown",
   "id": "5ef2752f-8b7f-4a81-9f6b-466fc0189470",
   "metadata": {},
   "source": [
    "##### 선정 변수 : 당뇨여부, 입원기간"
   ]
  },
  {
   "cell_type": "markdown",
   "id": "829a82c4-27e6-4a72-b731-be1a77520bdb",
   "metadata": {},
   "source": [
    "##### 선정 변수 : 심혈관질환여부, 입원기간"
   ]
  },
  {
   "cell_type": "code",
   "execution_count": null,
   "id": "fbf87cb9-f302-4b1a-b7e7-cef82daf29df",
   "metadata": {},
   "outputs": [],
   "source": []
  }
 ],
 "metadata": {
  "kernelspec": {
   "display_name": "Python 3 (ipykernel)",
   "language": "python",
   "name": "python3"
  },
  "language_info": {
   "codemirror_mode": {
    "name": "ipython",
    "version": 3
   },
   "file_extension": ".py",
   "mimetype": "text/x-python",
   "name": "python",
   "nbconvert_exporter": "python",
   "pygments_lexer": "ipython3",
   "version": "3.11.3"
  }
 },
 "nbformat": 4,
 "nbformat_minor": 5
}
