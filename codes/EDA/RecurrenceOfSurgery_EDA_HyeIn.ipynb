{
 "cells": [
  {
   "cell_type": "markdown",
   "id": "9397a72f-9041-4087-838b-ab2bbc255922",
   "metadata": {},
   "source": [
    "###  탐색 데이터 분석(Exploratory Data Analysis)\n",
    "### 분석 대상\n",
    "- 목적 : 입원 기간에 영향을 미치는 요인은 무엇인가?\n",
    "- 목표변수 : 입원기간\n",
    "- 설명변수 : 신장, 체중, 고혈압여부, 당뇨여부, 심혈관질환, 연령\n",
    "\n",
    "### 상관관계 확인\n",
    "1. 목표변수 : 입원기간\n",
    "2. 설명변수\n",
    "    - 신장 : 분포가 다양하게 퍼져있는 것으로 보임. 객관적인 수치를 통한 검즏 필요\n",
    "    - 체중 : 분포가 다양하게 퍼져있는 것으로 보임. 객관적인 수치를 통한 검증 필요\n",
    "    - 고혈압여부 : 고혈압이 있을 경우 입원기간이 상대적으로 더 많은 것으로 보임 \n",
    "    - 당뇨여부 : 당뇨가 있을 경우 입원기간이 상대적으로 더 많은 것으로 보임\n",
    "    - 심혈관질환 : 심혈관질환이 있을 경우 입원기간이 상대적으로 더 많은 것으로 보임\n",
    "    - 연령 : 분포가 다양하게 퍼져있는 것으로 보임. 객관적인 수치를 통한 검증 필요"
   ]
  },
  {
   "cell_type": "code",
   "execution_count": 20,
   "id": "fa92c041-eeac-4aa7-9fc5-480ff79fe249",
   "metadata": {
    "tags": []
   },
   "outputs": [],
   "source": [
    "import matplotlib.pyplot as plt\n",
    "# 한글처리\n",
    "import matplotlib as mpl\n",
    "mpl.rc('font',family='Malgun Gothic')\n",
    "import seaborn as sns\n",
    "import pandas as pd"
   ]
  },
  {
   "cell_type": "code",
   "execution_count": 19,
   "id": "824b9431-7fed-4dac-8109-0f462aea7bae",
   "metadata": {
    "tags": []
   },
   "outputs": [
    {
     "data": {
      "text/html": [
       "<div>\n",
       "<style scoped>\n",
       "    .dataframe tbody tr th:only-of-type {\n",
       "        vertical-align: middle;\n",
       "    }\n",
       "\n",
       "    .dataframe tbody tr th {\n",
       "        vertical-align: top;\n",
       "    }\n",
       "\n",
       "    .dataframe thead th {\n",
       "        text-align: right;\n",
       "    }\n",
       "</style>\n",
       "<table border=\"1\" class=\"dataframe\">\n",
       "  <thead>\n",
       "    <tr style=\"text-align: right;\">\n",
       "      <th></th>\n",
       "      <th>Unnamed: 0</th>\n",
       "      <th>고혈압여부</th>\n",
       "      <th>당뇨여부</th>\n",
       "      <th>성별</th>\n",
       "      <th>스테로이드치료</th>\n",
       "      <th>신장</th>\n",
       "      <th>심혈관질환</th>\n",
       "      <th>연령</th>\n",
       "      <th>입원기간</th>\n",
       "      <th>체중</th>\n",
       "      <th>환자통증정도</th>\n",
       "      <th>수술시간</th>\n",
       "      <th>재발여부</th>\n",
       "    </tr>\n",
       "  </thead>\n",
       "  <tbody>\n",
       "    <tr>\n",
       "      <th>0</th>\n",
       "      <td>0</td>\n",
       "      <td>0</td>\n",
       "      <td>0</td>\n",
       "      <td>2</td>\n",
       "      <td>1</td>\n",
       "      <td>163</td>\n",
       "      <td>0</td>\n",
       "      <td>66</td>\n",
       "      <td>2</td>\n",
       "      <td>60.3</td>\n",
       "      <td>10</td>\n",
       "      <td>68.0</td>\n",
       "      <td>0</td>\n",
       "    </tr>\n",
       "    <tr>\n",
       "      <th>1</th>\n",
       "      <td>1</td>\n",
       "      <td>0</td>\n",
       "      <td>0</td>\n",
       "      <td>1</td>\n",
       "      <td>1</td>\n",
       "      <td>171</td>\n",
       "      <td>0</td>\n",
       "      <td>47</td>\n",
       "      <td>1</td>\n",
       "      <td>71.7</td>\n",
       "      <td>10</td>\n",
       "      <td>31.0</td>\n",
       "      <td>0</td>\n",
       "    </tr>\n",
       "  </tbody>\n",
       "</table>\n",
       "</div>"
      ],
      "text/plain": [
       "   Unnamed: 0  고혈압여부  당뇨여부  성별  스테로이드치료   신장  심혈관질환  연령  입원기간    체중  환자통증정도  \\\n",
       "0           0      0     0   2        1  163      0  66     2  60.3      10   \n",
       "1           1      0     0   1        1  171      0  47     1  71.7      10   \n",
       "\n",
       "   수술시간  재발여부  \n",
       "0  68.0     0  \n",
       "1  31.0     0  "
      ]
     },
     "execution_count": 19,
     "metadata": {},
     "output_type": "execute_result"
    }
   ],
   "source": [
    "df_ROS = pd.read_csv('../../dataset/RecurrenceOfSurgery_quest.csv')\n",
    "df_ROS.head(2)"
   ]
  },
  {
   "cell_type": "code",
   "execution_count": 21,
   "id": "f38ad67f-4c21-4d49-89f3-e288e68da97c",
   "metadata": {
    "tags": []
   },
   "outputs": [],
   "source": [
    "df_ROS_patient = df_ROS[['신장','체중','고혈압여부','당뇨여부','심혈관질환','연령','입원기간']]"
   ]
  },
  {
   "cell_type": "code",
   "execution_count": 22,
   "id": "e5d90d38-33da-402b-a09a-c7eec13b83e9",
   "metadata": {
    "tags": []
   },
   "outputs": [
    {
     "name": "stdout",
     "output_type": "stream",
     "text": [
      "<class 'pandas.core.frame.DataFrame'>\n",
      "RangeIndex: 1894 entries, 0 to 1893\n",
      "Data columns (total 7 columns):\n",
      " #   Column  Non-Null Count  Dtype  \n",
      "---  ------  --------------  -----  \n",
      " 0   신장      1894 non-null   int64  \n",
      " 1   체중      1894 non-null   float64\n",
      " 2   고혈압여부   1894 non-null   int64  \n",
      " 3   당뇨여부    1894 non-null   int64  \n",
      " 4   심혈관질환   1894 non-null   int64  \n",
      " 5   연령      1894 non-null   int64  \n",
      " 6   입원기간    1894 non-null   int64  \n",
      "dtypes: float64(1), int64(6)\n",
      "memory usage: 103.7 KB\n"
     ]
    }
   ],
   "source": [
    "df_ROS_patient.info()"
   ]
  },
  {
   "cell_type": "markdown",
   "id": "5dfc6064-4c59-4880-9e1a-cbbf42edfa2f",
   "metadata": {
    "tags": []
   },
   "source": [
    "#### 목표변수 데이터 분포\n",
    "- 목표변수(입원기간) - 범주형(밸런스 확인)\n",
    "    * 결과 : 비정규분포"
   ]
  },
  {
   "cell_type": "code",
   "execution_count": 23,
   "id": "fa1813a2-9991-44fd-a8ee-271e5b38e097",
   "metadata": {
    "tags": []
   },
   "outputs": [
    {
     "name": "stdout",
     "output_type": "stream",
     "text": [
      "<class 'pandas.core.frame.DataFrame'>\n",
      "RangeIndex: 1894 entries, 0 to 1893\n",
      "Data columns (total 7 columns):\n",
      " #   Column  Non-Null Count  Dtype  \n",
      "---  ------  --------------  -----  \n",
      " 0   신장      1894 non-null   int64  \n",
      " 1   체중      1894 non-null   float64\n",
      " 2   고혈압여부   1894 non-null   object \n",
      " 3   당뇨여부    1894 non-null   object \n",
      " 4   심혈관질환   1894 non-null   object \n",
      " 5   연령      1894 non-null   int64  \n",
      " 6   입원기간    1894 non-null   int64  \n",
      "dtypes: float64(1), int64(3), object(3)\n",
      "memory usage: 103.7+ KB\n"
     ]
    },
    {
     "name": "stderr",
     "output_type": "stream",
     "text": [
      "C:\\Users\\koreavc\\AppData\\Local\\Temp\\ipykernel_10660\\668822120.py:2: SettingWithCopyWarning: \n",
      "A value is trying to be set on a copy of a slice from a DataFrame.\n",
      "Try using .loc[row_indexer,col_indexer] = value instead\n",
      "\n",
      "See the caveats in the documentation: https://pandas.pydata.org/pandas-docs/stable/user_guide/indexing.html#returning-a-view-versus-a-copy\n",
      "  df_ROS_patient[['고혈압여부','당뇨여부','심혈관질환']] = df_ROS_patient[['고혈압여부','당뇨여부','심혈관질환']].astype(str)\n"
     ]
    }
   ],
   "source": [
    "# 데이터 타입 변환(int -> str)\n",
    "df_ROS_patient[['고혈압여부','당뇨여부','심혈관질환']] = df_ROS_patient[['고혈압여부','당뇨여부','심혈관질환']].astype(str)\n",
    "df_ROS_patient.info()"
   ]
  },
  {
   "cell_type": "code",
   "execution_count": 24,
   "id": "7fbb5648-a583-4f87-87d0-f004f961d6e4",
   "metadata": {
    "tags": []
   },
   "outputs": [],
   "source": []
  },
  {
   "cell_type": "code",
   "execution_count": 32,
   "id": "a29343a1-8c40-44fd-9a47-06c382ddcc08",
   "metadata": {
    "tags": []
   },
   "outputs": [],
   "source": [
    "# sns.histplot(data=df_TOCC_choose, x='amount', kde=True)\n",
    "sns.countplot(data=df_ROS_patient, x='입원기간')\n",
    "plt.show()"
   ]
  },
  {
   "cell_type": "markdown",
   "id": "b18a0601-d803-4145-b5da-fddd9e64008f",
   "metadata": {},
   "source": [
    "#### 설명변수 데이터 분포"
   ]
  },
  {
   "cell_type": "code",
   "execution_count": 26,
   "id": "d113c09a-5ab9-49a7-bf8c-25aeb46ae657",
   "metadata": {
    "tags": []
   },
   "outputs": [
    {
     "data": {
      "text/plain": [
       "['고혈압여부', '당뇨여부', '심혈관질환']"
      ]
     },
     "execution_count": 26,
     "metadata": {},
     "output_type": "execute_result"
    }
   ],
   "source": [
    "object_list = df_ROS_patient.describe(include=object).columns.to_list()\n",
    "object_list"
   ]
  },
  {
   "cell_type": "code",
   "execution_count": 34,
   "id": "5529b4e7-9223-499b-8302-f9cc234c14a7",
   "metadata": {
    "tags": []
   },
   "outputs": [],
   "source": [
    "# 범주형/연속형\n",
    "for item in object_list :\n",
    "    sns.barplot(data=df_ROS_patient, x=item, y='입원기간')\n",
    "    plt.show()"
   ]
  },
  {
   "cell_type": "markdown",
   "id": "5f27012a-a78f-49f2-b45e-eef37d90aa07",
   "metadata": {},
   "source": [
    "#### 연속형 / 연속형 상관계수 확인 -> 신장, 체중, 연령\n",
    "- 1에 가까울수록 두개가 비슷하게 증가\n",
    "- -1에 가까울수록 하나 증가/ 하나 감소\n",
    "- 0에 가까울수록 두개간 관계가 없다     \n",
    "\n",
    "- 결과\n",
    "    * 신장/입원기간: 0.99, 관계 있음으로 확인됨\n",
    "    * 체중/입원기간: 0.99, 관계 있음으로 확인됨\n",
    "    * 연령/입원기간: 0.99, 관계 있음으로 확인됨"
   ]
  },
  {
   "cell_type": "code",
   "execution_count": 28,
   "id": "f6d2871e-67e9-4c32-a5be-45fcecee9c0e",
   "metadata": {
    "tags": []
   },
   "outputs": [
    {
     "data": {
      "text/plain": [
       "['신장', '체중', '연령']"
      ]
     },
     "execution_count": 28,
     "metadata": {},
     "output_type": "execute_result"
    }
   ],
   "source": [
    "continues_list = df_ROS_patient.describe().drop(columns=['입원기간']).columns.to_list()\n",
    "continues_list"
   ]
  },
  {
   "cell_type": "code",
   "execution_count": 29,
   "id": "69f0eb5d-52cf-43ab-a3de-d472683d779f",
   "metadata": {
    "tags": []
   },
   "outputs": [],
   "source": [
    "# 연속형/연속형\n",
    "for item in continues_list :\n",
    "    # sns.lineplot(data=df_ROS_patient, x=item, y='입원기간')\n",
    "    sns.scatterplot(data=df_ROS_patient, x=item, y='입원기간')\n",
    "    plt.show()"
   ]
  },
  {
   "cell_type": "code",
   "execution_count": 30,
   "id": "3edc5b60-7254-4f29-84ab-bfc21c78e8e4",
   "metadata": {
    "tags": []
   },
   "outputs": [
    {
     "data": {
      "text/html": [
       "<div>\n",
       "<style scoped>\n",
       "    .dataframe tbody tr th:only-of-type {\n",
       "        vertical-align: middle;\n",
       "    }\n",
       "\n",
       "    .dataframe tbody tr th {\n",
       "        vertical-align: top;\n",
       "    }\n",
       "\n",
       "    .dataframe thead th {\n",
       "        text-align: right;\n",
       "    }\n",
       "</style>\n",
       "<table border=\"1\" class=\"dataframe\">\n",
       "  <thead>\n",
       "    <tr style=\"text-align: right;\">\n",
       "      <th></th>\n",
       "      <th>신장</th>\n",
       "      <th>체중</th>\n",
       "      <th>연령</th>\n",
       "      <th>입원기간</th>\n",
       "    </tr>\n",
       "  </thead>\n",
       "  <tbody>\n",
       "    <tr>\n",
       "      <th>신장</th>\n",
       "      <td>1.000000</td>\n",
       "      <td>0.998246</td>\n",
       "      <td>0.997243</td>\n",
       "      <td>0.996110</td>\n",
       "    </tr>\n",
       "    <tr>\n",
       "      <th>체중</th>\n",
       "      <td>0.998246</td>\n",
       "      <td>1.000000</td>\n",
       "      <td>0.999751</td>\n",
       "      <td>0.999299</td>\n",
       "    </tr>\n",
       "    <tr>\n",
       "      <th>연령</th>\n",
       "      <td>0.997243</td>\n",
       "      <td>0.999751</td>\n",
       "      <td>1.000000</td>\n",
       "      <td>0.999819</td>\n",
       "    </tr>\n",
       "    <tr>\n",
       "      <th>입원기간</th>\n",
       "      <td>0.996110</td>\n",
       "      <td>0.999299</td>\n",
       "      <td>0.999819</td>\n",
       "      <td>1.000000</td>\n",
       "    </tr>\n",
       "  </tbody>\n",
       "</table>\n",
       "</div>"
      ],
      "text/plain": [
       "            신장        체중        연령      입원기간\n",
       "신장    1.000000  0.998246  0.997243  0.996110\n",
       "체중    0.998246  1.000000  0.999751  0.999299\n",
       "연령    0.997243  0.999751  1.000000  0.999819\n",
       "입원기간  0.996110  0.999299  0.999819  1.000000"
      ]
     },
     "execution_count": 30,
     "metadata": {},
     "output_type": "execute_result"
    }
   ],
   "source": [
    "df_ROS_patient.describe().corr()"
   ]
  },
  {
   "cell_type": "code",
   "execution_count": 31,
   "id": "b8d7680f-b0f8-4947-8aee-f74e1b7df6db",
   "metadata": {
    "tags": []
   },
   "outputs": [
    {
     "data": {
      "text/plain": [
       "<seaborn.axisgrid.PairGrid at 0x20f2897ab90>"
      ]
     },
     "execution_count": 31,
     "metadata": {},
     "output_type": "execute_result"
    }
   ],
   "source": [
    "sns.pairplot(data=df_ROS_patient, y_vars='입원기간')"
   ]
  }
 ],
 "metadata": {
  "kernelspec": {
   "display_name": "Python 3 (ipykernel)",
   "language": "python",
   "name": "python3"
  },
  "language_info": {
   "codemirror_mode": {
    "name": "ipython",
    "version": 3
   },
   "file_extension": ".py",
   "mimetype": "text/x-python",
   "name": "python",
   "nbconvert_exporter": "python",
   "pygments_lexer": "ipython3",
   "version": "3.11.3"
  }
 },
 "nbformat": 4,
 "nbformat_minor": 5
}
