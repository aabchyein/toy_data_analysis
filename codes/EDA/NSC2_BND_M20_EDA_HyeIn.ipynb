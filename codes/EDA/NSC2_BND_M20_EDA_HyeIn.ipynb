{
 "cells": [
  {
   "cell_type": "markdown",
   "id": "ec0e33a1-577b-4fb0-9694-c0d6bc083f3f",
   "metadata": {},
   "source": [
    "### EDA\n",
    "### 분석 대상\n",
    "- 목적 : 고혈압 환자의 총요양급여비용에 영향을 주는 요인은 무엇인가?\n",
    "- 목표변수 : 심결요양급여비용총액(ED_RC_TOT_AMT)\n",
    "- 설명변수 : 수술여부(OPRTN_YN), 공상 등 구분(OFIJ_TYPE), 요양일수(MDCARE_DD_CNT), 입내원일수(VSHSP_DD_CNT), 총처방일수(TOT_PRSC_DD_CNT)\n",
    "\n",
    "### 상관관계 확인\n",
    "1. 목표변수 : 심결요양급여비용총액(ED_RC_TOT_AMT)\n",
    "2. 설명변수\n",
    "    - 수술여부(OPRTN_YN) : 수술을 한 환자의 심결요양급여비용총액이 더 많아 보임\n",
    "    - 공상 등 구분(OFIJ_TYPE) : 본인부담경감대상자에 속하는 경우 심결요양급여비용총액이 더 많아 보임\n",
    "    - 요양일수(MDCARE_DD_CNT) : 상관계수 0.24, 심결요양급여비용총액과 관계없음\n",
    "    - 입내원일수(VSHSP_DD_CNT) : 상관계수 0.6, 심결요양급여비용총액과 관계있음\n",
    "    - 총처방일수(TOT_PRSC_DD_CNT) : 상관계수 -0.07, 심결요양급여비용총액과 관계없음"
   ]
  },
  {
   "cell_type": "code",
   "execution_count": 12,
   "id": "e6303796-467d-45d8-81fc-5d0c2494775d",
   "metadata": {
    "tags": []
   },
   "outputs": [],
   "source": [
    "import matplotlib.pyplot as plt\n",
    "# 한글처리\n",
    "import matplotlib as mpl\n",
    "mpl.rc('font',family='Malgun Gothic')\n",
    "import seaborn as sns\n",
    "import pandas as pd"
   ]
  },
  {
   "cell_type": "code",
   "execution_count": 13,
   "id": "5c7fdde6-f37d-4381-abb3-e2622c246308",
   "metadata": {
    "tags": []
   },
   "outputs": [
    {
     "data": {
      "text/html": [
       "<div>\n",
       "<style scoped>\n",
       "    .dataframe tbody tr th:only-of-type {\n",
       "        vertical-align: middle;\n",
       "    }\n",
       "\n",
       "    .dataframe tbody tr th {\n",
       "        vertical-align: top;\n",
       "    }\n",
       "\n",
       "    .dataframe thead th {\n",
       "        text-align: right;\n",
       "    }\n",
       "</style>\n",
       "<table border=\"1\" class=\"dataframe\">\n",
       "  <thead>\n",
       "    <tr style=\"text-align: right;\">\n",
       "      <th></th>\n",
       "      <th>Unnamed: 0</th>\n",
       "      <th>OFIJ_TYPE</th>\n",
       "      <th>OPRTN_YN</th>\n",
       "      <th>MDCARE_DD_CNT</th>\n",
       "      <th>VSHSP_DD_CNT</th>\n",
       "      <th>TOT_PRSC_DD_CNT</th>\n",
       "      <th>ED_RC_TOT_AMT</th>\n",
       "    </tr>\n",
       "  </thead>\n",
       "  <tbody>\n",
       "    <tr>\n",
       "      <th>0</th>\n",
       "      <td>0</td>\n",
       "      <td>0</td>\n",
       "      <td>0</td>\n",
       "      <td>1</td>\n",
       "      <td>1</td>\n",
       "      <td>30</td>\n",
       "      <td>7570</td>\n",
       "    </tr>\n",
       "    <tr>\n",
       "      <th>1</th>\n",
       "      <td>1</td>\n",
       "      <td>0</td>\n",
       "      <td>0</td>\n",
       "      <td>2</td>\n",
       "      <td>2</td>\n",
       "      <td>60</td>\n",
       "      <td>18160</td>\n",
       "    </tr>\n",
       "  </tbody>\n",
       "</table>\n",
       "</div>"
      ],
      "text/plain": [
       "   Unnamed: 0 OFIJ_TYPE  OPRTN_YN  MDCARE_DD_CNT  VSHSP_DD_CNT  \\\n",
       "0           0         0         0              1             1   \n",
       "1           1         0         0              2             2   \n",
       "\n",
       "   TOT_PRSC_DD_CNT  ED_RC_TOT_AMT  \n",
       "0               30           7570  \n",
       "1               60          18160  "
      ]
     },
     "execution_count": 13,
     "metadata": {},
     "output_type": "execute_result"
    }
   ],
   "source": [
    "df_NBM = pd.read_csv('../../dataset/df_NBM.csv')\n",
    "df_NBM.head(2)"
   ]
  },
  {
   "cell_type": "code",
   "execution_count": 14,
   "id": "4753951e-5e64-4999-855c-824aba6fa936",
   "metadata": {
    "tags": []
   },
   "outputs": [
    {
     "name": "stdout",
     "output_type": "stream",
     "text": [
      "<class 'pandas.core.frame.DataFrame'>\n",
      "RangeIndex: 4629 entries, 0 to 4628\n",
      "Data columns (total 7 columns):\n",
      " #   Column           Non-Null Count  Dtype \n",
      "---  ------           --------------  ----- \n",
      " 0   Unnamed: 0       4629 non-null   int64 \n",
      " 1   OFIJ_TYPE        4522 non-null   object\n",
      " 2   OPRTN_YN         4629 non-null   int64 \n",
      " 3   MDCARE_DD_CNT    4629 non-null   int64 \n",
      " 4   VSHSP_DD_CNT     4629 non-null   int64 \n",
      " 5   TOT_PRSC_DD_CNT  4629 non-null   int64 \n",
      " 6   ED_RC_TOT_AMT    4629 non-null   int64 \n",
      "dtypes: int64(6), object(1)\n",
      "memory usage: 253.3+ KB\n"
     ]
    }
   ],
   "source": [
    "df_NBM.info()"
   ]
  },
  {
   "cell_type": "code",
   "execution_count": 15,
   "id": "8d01240d-be16-4205-9589-5d9028a7ffd4",
   "metadata": {
    "tags": []
   },
   "outputs": [
    {
     "name": "stdout",
     "output_type": "stream",
     "text": [
      "<class 'pandas.core.frame.DataFrame'>\n",
      "Int64Index: 4522 entries, 0 to 4628\n",
      "Data columns (total 7 columns):\n",
      " #   Column           Non-Null Count  Dtype \n",
      "---  ------           --------------  ----- \n",
      " 0   Unnamed: 0       4522 non-null   int64 \n",
      " 1   OFIJ_TYPE        4522 non-null   object\n",
      " 2   OPRTN_YN         4522 non-null   int64 \n",
      " 3   MDCARE_DD_CNT    4522 non-null   int64 \n",
      " 4   VSHSP_DD_CNT     4522 non-null   int64 \n",
      " 5   TOT_PRSC_DD_CNT  4522 non-null   int64 \n",
      " 6   ED_RC_TOT_AMT    4522 non-null   int64 \n",
      "dtypes: int64(6), object(1)\n",
      "memory usage: 282.6+ KB\n"
     ]
    }
   ],
   "source": [
    "# 결측치 처리\n",
    "df_NBM = df_NBM.dropna()\n",
    "df_NBM.info()"
   ]
  },
  {
   "cell_type": "code",
   "execution_count": 16,
   "id": "18b2c561-07c8-48a4-8069-10874b1d4379",
   "metadata": {
    "tags": []
   },
   "outputs": [],
   "source": [
    "df_NBM['OPRTN_YN'] = df_NBM['OPRTN_YN'].astype(str)"
   ]
  },
  {
   "cell_type": "code",
   "execution_count": 17,
   "id": "7ac56935-54ed-4ed2-a804-fe96214447d0",
   "metadata": {
    "tags": []
   },
   "outputs": [
    {
     "data": {
      "text/plain": [
       "Unnamed: 0          int64\n",
       "OFIJ_TYPE          object\n",
       "OPRTN_YN           object\n",
       "MDCARE_DD_CNT       int64\n",
       "VSHSP_DD_CNT        int64\n",
       "TOT_PRSC_DD_CNT     int64\n",
       "ED_RC_TOT_AMT       int64\n",
       "dtype: object"
      ]
     },
     "execution_count": 17,
     "metadata": {},
     "output_type": "execute_result"
    }
   ],
   "source": [
    "df_NBM.dtypes"
   ]
  },
  {
   "cell_type": "code",
   "execution_count": 20,
   "id": "5abc2bc0-ac7d-41ed-b329-01aa368ad5ba",
   "metadata": {
    "tags": []
   },
   "outputs": [
    {
     "data": {
      "text/plain": [
       "<Axes: xlabel='ED_RC_TOT_AMT', ylabel='Count'>"
      ]
     },
     "execution_count": 20,
     "metadata": {},
     "output_type": "execute_result"
    },
    {
     "data": {
      "image/png": "[encoded data removed]",
      "text/plain": [
       "<Figure size 640x480 with 1 Axes>"
      ]
     },
     "metadata": {},
     "output_type": "display_data"
    }
   ],
   "source": [
    "# 목표변수 : 연속형-정규화확인 -> 비정규화\n",
    "sns.histplot(data=df_NBM, x='ED_RC_TOT_AMT', kde=True)"
   ]
  },
  {
   "cell_type": "markdown",
   "id": "0ace0823-25b9-4035-86d0-678326cd85ce",
   "metadata": {},
   "source": [
    "#### 연속형 / 연속형\n",
    "- 결과( 목표변수 ED_RC_TOT_AMT 와의 상관계수 확인)\n",
    "    * MDCARE_DD_CNT(요양일수) : 0.24, 0에 가깝기 때문에 관계없음\n",
    "    * VSHSP_DD_CNT(입내원일수) : 0.6, 1에 가깝기 때문에 관계있음\n",
    "    * TOT_PRSC_DD_CNT(총처방일수) : -0.07, 0에 가깝기 때문에 관계없음"
   ]
  },
  {
   "cell_type": "code",
   "execution_count": 22,
   "id": "84f4bccd-d030-421c-94aa-68a142310f7b",
   "metadata": {
    "tags": []
   },
   "outputs": [
    {
     "name": "stderr",
     "output_type": "stream",
     "text": [
      "C:\\Users\\koreavc\\AppData\\Local\\Temp\\ipykernel_14572\\3602995902.py:1: FutureWarning: The default value of numeric_only in DataFrame.corr is deprecated. In a future version, it will default to False. Select only valid columns or specify the value of numeric_only to silence this warning.\n",
      "  df_NBM.corr()\n"
     ]
    },
    {
     "data": {
      "text/html": [
       "<div>\n",
       "<style scoped>\n",
       "    .dataframe tbody tr th:only-of-type {\n",
       "        vertical-align: middle;\n",
       "    }\n",
       "\n",
       "    .dataframe tbody tr th {\n",
       "        vertical-align: top;\n",
       "    }\n",
       "\n",
       "    .dataframe thead th {\n",
       "        text-align: right;\n",
       "    }\n",
       "</style>\n",
       "<table border=\"1\" class=\"dataframe\">\n",
       "  <thead>\n",
       "    <tr style=\"text-align: right;\">\n",
       "      <th></th>\n",
       "      <th>Unnamed: 0</th>\n",
       "      <th>MDCARE_DD_CNT</th>\n",
       "      <th>VSHSP_DD_CNT</th>\n",
       "      <th>TOT_PRSC_DD_CNT</th>\n",
       "      <th>ED_RC_TOT_AMT</th>\n",
       "    </tr>\n",
       "  </thead>\n",
       "  <tbody>\n",
       "    <tr>\n",
       "      <th>Unnamed: 0</th>\n",
       "      <td>1.000000</td>\n",
       "      <td>-0.031361</td>\n",
       "      <td>0.023227</td>\n",
       "      <td>0.056025</td>\n",
       "      <td>0.003531</td>\n",
       "    </tr>\n",
       "    <tr>\n",
       "      <th>MDCARE_DD_CNT</th>\n",
       "      <td>-0.031361</td>\n",
       "      <td>1.000000</td>\n",
       "      <td>0.274839</td>\n",
       "      <td>-0.249130</td>\n",
       "      <td>0.241848</td>\n",
       "    </tr>\n",
       "    <tr>\n",
       "      <th>VSHSP_DD_CNT</th>\n",
       "      <td>0.023227</td>\n",
       "      <td>0.274839</td>\n",
       "      <td>1.000000</td>\n",
       "      <td>-0.052312</td>\n",
       "      <td>0.602980</td>\n",
       "    </tr>\n",
       "    <tr>\n",
       "      <th>TOT_PRSC_DD_CNT</th>\n",
       "      <td>0.056025</td>\n",
       "      <td>-0.249130</td>\n",
       "      <td>-0.052312</td>\n",
       "      <td>1.000000</td>\n",
       "      <td>-0.073299</td>\n",
       "    </tr>\n",
       "    <tr>\n",
       "      <th>ED_RC_TOT_AMT</th>\n",
       "      <td>0.003531</td>\n",
       "      <td>0.241848</td>\n",
       "      <td>0.602980</td>\n",
       "      <td>-0.073299</td>\n",
       "      <td>1.000000</td>\n",
       "    </tr>\n",
       "  </tbody>\n",
       "</table>\n",
       "</div>"
      ],
      "text/plain": [
       "                 Unnamed: 0  MDCARE_DD_CNT  VSHSP_DD_CNT  TOT_PRSC_DD_CNT  \\\n",
       "Unnamed: 0         1.000000      -0.031361      0.023227         0.056025   \n",
       "MDCARE_DD_CNT     -0.031361       1.000000      0.274839        -0.249130   \n",
       "VSHSP_DD_CNT       0.023227       0.274839      1.000000        -0.052312   \n",
       "TOT_PRSC_DD_CNT    0.056025      -0.249130     -0.052312         1.000000   \n",
       "ED_RC_TOT_AMT      0.003531       0.241848      0.602980        -0.073299   \n",
       "\n",
       "                 ED_RC_TOT_AMT  \n",
       "Unnamed: 0            0.003531  \n",
       "MDCARE_DD_CNT         0.241848  \n",
       "VSHSP_DD_CNT          0.602980  \n",
       "TOT_PRSC_DD_CNT      -0.073299  \n",
       "ED_RC_TOT_AMT         1.000000  "
      ]
     },
     "execution_count": 22,
     "metadata": {},
     "output_type": "execute_result"
    }
   ],
   "source": [
    "df_NBM.corr()"
   ]
  },
  {
   "cell_type": "markdown",
   "id": "8b39c47b-0427-4db2-9015-d0acbe29be83",
   "metadata": {},
   "source": [
    "#### 범주형 / 연속형\n",
    "1. 목표변수\n",
    "    * 연속형 : ED_RC_TOT_AMT\n",
    "2. 설명변수\n",
    "    * 범주형 : 수술여부(OPRTN_YN), 공상 등 구분(OFIJ_TYPE)"
   ]
  },
  {
   "cell_type": "code",
   "execution_count": 23,
   "id": "0dc5cda4-dce9-4a07-8691-8f8eb7a9dbcb",
   "metadata": {
    "tags": []
   },
   "outputs": [
    {
     "data": {
      "text/plain": [
       "<Axes: xlabel='OPRTN_YN', ylabel='ED_RC_TOT_AMT'>"
      ]
     },
     "execution_count": 23,
     "metadata": {},
     "output_type": "execute_result"
    },
    {
     "data": {
      "image/png": "[encoded data removed]",
      "text/plain": [
       "<Figure size 640x480 with 1 Axes>"
      ]
     },
     "metadata": {},
     "output_type": "display_data"
    }
   ],
   "source": [
    "sns.barplot(data=df_NBM, x='OPRTN_YN', y='ED_RC_TOT_AMT')"
   ]
  },
  {
   "cell_type": "code",
   "execution_count": 24,
   "id": "af2301c2-41a7-48b3-85f8-1bad590bc121",
   "metadata": {
    "tags": []
   },
   "outputs": [
    {
     "data": {
      "text/plain": [
       "<Axes: xlabel='OFIJ_TYPE', ylabel='ED_RC_TOT_AMT'>"
      ]
     },
     "execution_count": 24,
     "metadata": {},
     "output_type": "execute_result"
    },
    {
     "data": {
      "image/png": "[encoded data removed]",
      "text/plain": [
       "<Figure size 640x480 with 1 Axes>"
      ]
     },
     "metadata": {},
     "output_type": "display_data"
    }
   ],
   "source": [
    "sns.barplot(data=df_NBM, x='OFIJ_TYPE', y='ED_RC_TOT_AMT')"
   ]
  },
  {
   "cell_type": "code",
   "execution_count": 26,
   "id": "e095f56f-f155-4eca-85d1-5be89661800e",
   "metadata": {
    "tags": []
   },
   "outputs": [
    {
     "data": {
      "text/plain": [
       "array(['0', 'B'], dtype=object)"
      ]
     },
     "execution_count": 26,
     "metadata": {},
     "output_type": "execute_result"
    }
   ],
   "source": [
    "df_NBM['OFIJ_TYPE'].unique()"
   ]
  }
 ],
 "metadata": {
  "kernelspec": {
   "display_name": "Python 3 (ipykernel)",
   "language": "python",
   "name": "python3"
  },
  "language_info": {
   "codemirror_mode": {
    "name": "ipython",
    "version": 3
   },
   "file_extension": ".py",
   "mimetype": "text/x-python",
   "name": "python",
   "nbconvert_exporter": "python",
   "pygments_lexer": "ipython3",
   "version": "3.11.3"
  }
 },
 "nbformat": 4,
 "nbformat_minor": 5
}
