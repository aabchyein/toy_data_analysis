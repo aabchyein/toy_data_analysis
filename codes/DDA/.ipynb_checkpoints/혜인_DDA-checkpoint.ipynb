{
 "cells": [
  {
   "cell_type": "markdown",
   "id": "93f566a2-54d7-4fbc-b5ee-ba1664bbf163",
   "metadata": {},
   "source": [
    "### 묘사적 데이터 분석(DDA - Descriptive Data Analysis)\n",
    "- 목적 : 입원기간에 영향을 미치는 요인들을 분석해보고자 한다.\n",
    "\n",
    "- 목표변수 : 입원기간\n",
    "- 설명변수 : 신장, 체중, 고혈압여부, 당뇨여부, 심혈관질환, 연령\n",
    "    * 연속형 - 신장, 체중, 연령\n",
    "    * 범주형 - 고혈압여부, 당뇨여부, 연령"
   ]
  },
  {
   "cell_type": "code",
   "execution_count": 23,
   "id": "d4e5adf1-bebb-4f68-adee-fd9d125f67ad",
   "metadata": {},
   "outputs": [],
   "source": [
    "import pandas as pd"
   ]
  },
  {
   "cell_type": "code",
   "execution_count": 68,
   "id": "920a8f91-41dc-4f6d-a914-578f3ee41ebe",
   "metadata": {},
   "outputs": [
    {
     "data": {
      "text/html": [
       "<div>\n",
       "<style scoped>\n",
       "    .dataframe tbody tr th:only-of-type {\n",
       "        vertical-align: middle;\n",
       "    }\n",
       "\n",
       "    .dataframe tbody tr th {\n",
       "        vertical-align: top;\n",
       "    }\n",
       "\n",
       "    .dataframe thead th {\n",
       "        text-align: right;\n",
       "    }\n",
       "</style>\n",
       "<table border=\"1\" class=\"dataframe\">\n",
       "  <thead>\n",
       "    <tr style=\"text-align: right;\">\n",
       "      <th></th>\n",
       "      <th>Unnamed: 0</th>\n",
       "      <th>고혈압여부</th>\n",
       "      <th>당뇨여부</th>\n",
       "      <th>성별</th>\n",
       "      <th>스테로이드치료</th>\n",
       "      <th>신장</th>\n",
       "      <th>심혈관질환</th>\n",
       "      <th>연령</th>\n",
       "      <th>입원기간</th>\n",
       "      <th>체중</th>\n",
       "      <th>환자통증정도</th>\n",
       "      <th>수술시간</th>\n",
       "      <th>재발여부</th>\n",
       "    </tr>\n",
       "  </thead>\n",
       "  <tbody>\n",
       "    <tr>\n",
       "      <th>0</th>\n",
       "      <td>0</td>\n",
       "      <td>0</td>\n",
       "      <td>0</td>\n",
       "      <td>2</td>\n",
       "      <td>1</td>\n",
       "      <td>163</td>\n",
       "      <td>0</td>\n",
       "      <td>66</td>\n",
       "      <td>2</td>\n",
       "      <td>60.3</td>\n",
       "      <td>10</td>\n",
       "      <td>68.0</td>\n",
       "      <td>0</td>\n",
       "    </tr>\n",
       "    <tr>\n",
       "      <th>1</th>\n",
       "      <td>1</td>\n",
       "      <td>0</td>\n",
       "      <td>0</td>\n",
       "      <td>1</td>\n",
       "      <td>1</td>\n",
       "      <td>171</td>\n",
       "      <td>0</td>\n",
       "      <td>47</td>\n",
       "      <td>1</td>\n",
       "      <td>71.7</td>\n",
       "      <td>10</td>\n",
       "      <td>31.0</td>\n",
       "      <td>0</td>\n",
       "    </tr>\n",
       "  </tbody>\n",
       "</table>\n",
       "</div>"
      ],
      "text/plain": [
       "   Unnamed: 0  고혈압여부  당뇨여부  성별  스테로이드치료   신장  심혈관질환  연령  입원기간    체중  환자통증정도  \\\n",
       "0           0      0     0   2        1  163      0  66     2  60.3      10   \n",
       "1           1      0     0   1        1  171      0  47     1  71.7      10   \n",
       "\n",
       "   수술시간  재발여부  \n",
       "0  68.0     0  \n",
       "1  31.0     0  "
      ]
     },
     "execution_count": 68,
     "metadata": {},
     "output_type": "execute_result"
    }
   ],
   "source": [
    "df_ROS = pd.read_csv('../../dataset/RecurrenceOfSurgery_quest.csv')\n",
    "df_ROS.head(2)"
   ]
  },
  {
   "cell_type": "code",
   "execution_count": 51,
   "id": "a2243933-778b-41a5-9541-df4fa1c606d0",
   "metadata": {},
   "outputs": [
    {
     "name": "stdout",
     "output_type": "stream",
     "text": [
      "<class 'pandas.core.frame.DataFrame'>\n",
      "RangeIndex: 1840 entries, 0 to 1839\n",
      "Data columns (total 13 columns):\n",
      " #   Column      Non-Null Count  Dtype  \n",
      "---  ------      --------------  -----  \n",
      " 0   Unnamed: 0  1840 non-null   object \n",
      " 1   고혈압여부       1840 non-null   object \n",
      " 2   당뇨여부        1840 non-null   object \n",
      " 3   성별          1840 non-null   int64  \n",
      " 4   스테로이드치료     1840 non-null   int64  \n",
      " 5   신장          1840 non-null   int64  \n",
      " 6   심혈관질환       1840 non-null   object \n",
      " 7   연령          1840 non-null   int64  \n",
      " 8   입원기간        1840 non-null   int64  \n",
      " 9   체중          1840 non-null   float64\n",
      " 10  환자통증정도      1840 non-null   int64  \n",
      " 11  수술시간        1840 non-null   float64\n",
      " 12  재발여부        1840 non-null   int64  \n",
      "dtypes: float64(2), int64(7), object(4)\n",
      "memory usage: 187.0+ KB\n"
     ]
    }
   ],
   "source": [
    "df_ROS.info()"
   ]
  },
  {
   "cell_type": "markdown",
   "id": "3c985858-5489-4e43-a42b-279cb25e3435",
   "metadata": {},
   "source": [
    "#### 데이터 타입 확인 후 변환\n",
    "- 결과\n",
    "    - 연속형 : 신장, 체중, 연령\n",
    "    - 범주형 : 고혈압여부, 당뇨여부, 심혈관질환"
   ]
  },
  {
   "cell_type": "code",
   "execution_count": 43,
   "id": "5c83ee55-6add-4166-b3c6-7e58f0838488",
   "metadata": {
    "tags": []
   },
   "outputs": [],
   "source": [
    "# 고혈압여부, 당뇨여부, 심혈관 질환 (int -> str)\n",
    "df_ROS['고혈압여부'] = df_ROS['고혈압여부'].astype(str)"
   ]
  },
  {
   "cell_type": "code",
   "execution_count": 44,
   "id": "f3edc3b6-2b8a-4f54-a176-5c2341831317",
   "metadata": {
    "tags": []
   },
   "outputs": [],
   "source": [
    "df_ROS['당뇨여부'] = df_ROS['당뇨여부'].astype(str)"
   ]
  },
  {
   "cell_type": "code",
   "execution_count": 45,
   "id": "cae9dbbf-8050-4511-af01-2a6f8b0c1695",
   "metadata": {
    "tags": []
   },
   "outputs": [],
   "source": [
    "df_ROS['심혈관질환'] = df_ROS['심혈관질환'].astype(str)"
   ]
  },
  {
   "cell_type": "code",
   "execution_count": 36,
   "id": "a2542aa3-47fe-4360-b040-8b49648644ef",
   "metadata": {
    "tags": []
   },
   "outputs": [],
   "source": [
    "df_ROS['Unnamed: 0'] = df_ROS['Unnamed: 0'].astype(str)"
   ]
  },
  {
   "cell_type": "code",
   "execution_count": 52,
   "id": "a4770cdb-1ca6-469b-87ee-10a6da49c36f",
   "metadata": {
    "tags": []
   },
   "outputs": [
    {
     "data": {
      "text/plain": [
       "Unnamed: 0     object\n",
       "고혈압여부          object\n",
       "당뇨여부           object\n",
       "성별              int64\n",
       "스테로이드치료         int64\n",
       "신장              int64\n",
       "심혈관질환          object\n",
       "연령              int64\n",
       "입원기간            int64\n",
       "체중            float64\n",
       "환자통증정도          int64\n",
       "수술시간          float64\n",
       "재발여부            int64\n",
       "dtype: object"
      ]
     },
     "execution_count": 52,
     "metadata": {},
     "output_type": "execute_result"
    }
   ],
   "source": [
    "df_ROS.dtypes"
   ]
  },
  {
   "cell_type": "code",
   "execution_count": 48,
   "id": "e7c300d7-501a-4fd5-88bb-1b189fccd8a0",
   "metadata": {
    "tags": []
   },
   "outputs": [],
   "source": [
    "import matplotlib.pyplot as plt\n",
    "# 한글처리\n",
    "import matplotlib as mpl\n",
    "mpl.rc('font',family='Malgun Gothic')\n",
    "import seaborn as sns"
   ]
  },
  {
   "cell_type": "code",
   "execution_count": 63,
   "id": "04bf877c-397e-473b-be1c-ee940ffdbb00",
   "metadata": {
    "tags": []
   },
   "outputs": [
    {
     "data": {
      "text/html": [
       "<div>\n",
       "<style scoped>\n",
       "    .dataframe tbody tr th:only-of-type {\n",
       "        vertical-align: middle;\n",
       "    }\n",
       "\n",
       "    .dataframe tbody tr th {\n",
       "        vertical-align: top;\n",
       "    }\n",
       "\n",
       "    .dataframe thead th {\n",
       "        text-align: right;\n",
       "    }\n",
       "</style>\n",
       "<table border=\"1\" class=\"dataframe\">\n",
       "  <thead>\n",
       "    <tr style=\"text-align: right;\">\n",
       "      <th></th>\n",
       "      <th>신장</th>\n",
       "      <th>체중</th>\n",
       "      <th>연령</th>\n",
       "    </tr>\n",
       "  </thead>\n",
       "  <tbody>\n",
       "    <tr>\n",
       "      <th>count</th>\n",
       "      <td>1840.000000</td>\n",
       "      <td>1840.000000</td>\n",
       "      <td>1840.00000</td>\n",
       "    </tr>\n",
       "    <tr>\n",
       "      <th>mean</th>\n",
       "      <td>168.067935</td>\n",
       "      <td>68.134185</td>\n",
       "      <td>41.51250</td>\n",
       "    </tr>\n",
       "    <tr>\n",
       "      <th>std</th>\n",
       "      <td>9.211623</td>\n",
       "      <td>11.187705</td>\n",
       "      <td>13.38467</td>\n",
       "    </tr>\n",
       "    <tr>\n",
       "      <th>min</th>\n",
       "      <td>140.000000</td>\n",
       "      <td>35.000000</td>\n",
       "      <td>15.00000</td>\n",
       "    </tr>\n",
       "    <tr>\n",
       "      <th>25%</th>\n",
       "      <td>161.000000</td>\n",
       "      <td>59.700000</td>\n",
       "      <td>32.00000</td>\n",
       "    </tr>\n",
       "    <tr>\n",
       "      <th>50%</th>\n",
       "      <td>169.000000</td>\n",
       "      <td>68.000000</td>\n",
       "      <td>41.00000</td>\n",
       "    </tr>\n",
       "    <tr>\n",
       "      <th>75%</th>\n",
       "      <td>175.000000</td>\n",
       "      <td>75.100000</td>\n",
       "      <td>49.00000</td>\n",
       "    </tr>\n",
       "    <tr>\n",
       "      <th>max</th>\n",
       "      <td>204.000000</td>\n",
       "      <td>136.100000</td>\n",
       "      <td>84.00000</td>\n",
       "    </tr>\n",
       "  </tbody>\n",
       "</table>\n",
       "</div>"
      ],
      "text/plain": [
       "                신장           체중          연령\n",
       "count  1840.000000  1840.000000  1840.00000\n",
       "mean    168.067935    68.134185    41.51250\n",
       "std       9.211623    11.187705    13.38467\n",
       "min     140.000000    35.000000    15.00000\n",
       "25%     161.000000    59.700000    32.00000\n",
       "50%     169.000000    68.000000    41.00000\n",
       "75%     175.000000    75.100000    49.00000\n",
       "max     204.000000   136.100000    84.00000"
      ]
     },
     "execution_count": 63,
     "metadata": {},
     "output_type": "execute_result"
    }
   ],
   "source": [
    "df_ROS[['신장','체중', '연령']].describe()"
   ]
  },
  {
   "cell_type": "code",
   "execution_count": 60,
   "id": "eb29ea42-c584-414e-a020-9be73941ba3c",
   "metadata": {},
   "outputs": [],
   "source": [
    "# 연속형 count 확인 (신장, 체중, 연령)\n",
    "continues_list = df_ROS[['신장','체중','연령']].columns.to_list()"
   ]
  },
  {
   "cell_type": "code",
   "execution_count": 61,
   "id": "22c9a467-aeb0-4d10-88da-b7c983747cb3",
   "metadata": {
    "tags": []
   },
   "outputs": [
    {
     "data": {
      "image/png": "[encoded data removed]",
      "text/plain": [
       "<Figure size 640x480 with 1 Axes>"
      ]
     },
     "metadata": {},
     "output_type": "display_data"
    },
    {
     "data": {
      "image/png": "[encoded data removed]",
      "text/plain": [
       "<Figure size 640x480 with 1 Axes>"
      ]
     },
     "metadata": {},
     "output_type": "display_data"
    },
    {
     "data": {
      "image/png": "[encoded data removed]",
      "text/plain": [
       "<Figure size 640x480 with 1 Axes>"
      ]
     },
     "metadata": {},
     "output_type": "display_data"
    }
   ],
   "source": [
    "for continues in continues_list :\n",
    "    sns.histplot(data=df_ROS, x=continues, kde=True)\n",
    "    plt.show()"
   ]
  },
  {
   "cell_type": "code",
   "execution_count": 64,
   "id": "9eec82c4-bff3-4b9a-895b-74f1a751b66c",
   "metadata": {
    "tags": []
   },
   "outputs": [
    {
     "data": {
      "text/html": [
       "<div>\n",
       "<style scoped>\n",
       "    .dataframe tbody tr th:only-of-type {\n",
       "        vertical-align: middle;\n",
       "    }\n",
       "\n",
       "    .dataframe tbody tr th {\n",
       "        vertical-align: top;\n",
       "    }\n",
       "\n",
       "    .dataframe thead th {\n",
       "        text-align: right;\n",
       "    }\n",
       "</style>\n",
       "<table border=\"1\" class=\"dataframe\">\n",
       "  <thead>\n",
       "    <tr style=\"text-align: right;\">\n",
       "      <th></th>\n",
       "      <th>고혈압여부</th>\n",
       "      <th>당뇨여부</th>\n",
       "      <th>심혈관질환</th>\n",
       "    </tr>\n",
       "  </thead>\n",
       "  <tbody>\n",
       "    <tr>\n",
       "      <th>count</th>\n",
       "      <td>1840</td>\n",
       "      <td>1840</td>\n",
       "      <td>1840</td>\n",
       "    </tr>\n",
       "    <tr>\n",
       "      <th>unique</th>\n",
       "      <td>2</td>\n",
       "      <td>2</td>\n",
       "      <td>2</td>\n",
       "    </tr>\n",
       "    <tr>\n",
       "      <th>top</th>\n",
       "      <td>0</td>\n",
       "      <td>0</td>\n",
       "      <td>0</td>\n",
       "    </tr>\n",
       "    <tr>\n",
       "      <th>freq</th>\n",
       "      <td>1598</td>\n",
       "      <td>1724</td>\n",
       "      <td>1774</td>\n",
       "    </tr>\n",
       "  </tbody>\n",
       "</table>\n",
       "</div>"
      ],
      "text/plain": [
       "       고혈압여부  당뇨여부 심혈관질환\n",
       "count   1840  1840  1840\n",
       "unique     2     2     2\n",
       "top        0     0     0\n",
       "freq    1598  1724  1774"
      ]
     },
     "execution_count": 64,
     "metadata": {},
     "output_type": "execute_result"
    }
   ],
   "source": [
    "# 범주형 확인 (고혈압여부, 당노여부, 심혈관질환)\n",
    "df_ROS[['고혈압여부','당뇨여부','심혈관질환']].describe(include=object)"
   ]
  },
  {
   "cell_type": "code",
   "execution_count": 65,
   "id": "596a93fd-8b16-492f-82b5-ea1fda7f8526",
   "metadata": {
    "tags": []
   },
   "outputs": [
    {
     "data": {
      "text/plain": [
       "0    1598\n",
       "1     242\n",
       "Name: 고혈압여부, dtype: int64"
      ]
     },
     "execution_count": 65,
     "metadata": {},
     "output_type": "execute_result"
    }
   ],
   "source": [
    "# 각 범주별 레코드 개수 확인\n",
    "df_ROS['고혈압여부'].value_counts()"
   ]
  },
  {
   "cell_type": "code",
   "execution_count": 76,
   "id": "c94ec179-27d1-43bf-878f-53d8f189091d",
   "metadata": {
    "tags": []
   },
   "outputs": [
    {
     "data": {
      "text/plain": [
       "<Axes: xlabel='고혈압여부', ylabel='count'>"
      ]
     },
     "execution_count": 76,
     "metadata": {},
     "output_type": "execute_result"
    },
    {
     "data": {
      "image/png": "[encoded data removed]",
      "text/plain": [
       "<Figure size 640x480 with 1 Axes>"
      ]
     },
     "metadata": {},
     "output_type": "display_data"
    }
   ],
   "source": [
    "sns.countplot(data=df_ROS, x='고혈압여부')"
   ]
  },
  {
   "cell_type": "code",
   "execution_count": 66,
   "id": "8056e728-e803-4635-abcb-61c5558864ad",
   "metadata": {
    "tags": []
   },
   "outputs": [
    {
     "data": {
      "text/plain": [
       "0    1724\n",
       "1     116\n",
       "Name: 당뇨여부, dtype: int64"
      ]
     },
     "execution_count": 66,
     "metadata": {},
     "output_type": "execute_result"
    }
   ],
   "source": [
    "df_ROS['당뇨여부'].value_counts()"
   ]
  },
  {
   "cell_type": "code",
   "execution_count": 77,
   "id": "a80bd928-38f7-4f85-837e-a280be1c9e7b",
   "metadata": {
    "tags": []
   },
   "outputs": [
    {
     "data": {
      "text/plain": [
       "<Axes: xlabel='당뇨여부', ylabel='count'>"
      ]
     },
     "execution_count": 77,
     "metadata": {},
     "output_type": "execute_result"
    },
    {
     "data": {
      "image/png": "[encoded data removed]",
      "text/plain": [
       "<Figure size 640x480 with 1 Axes>"
      ]
     },
     "metadata": {},
     "output_type": "display_data"
    }
   ],
   "source": [
    "sns.countplot(data=df_ROS, x='당뇨여부')"
   ]
  },
  {
   "cell_type": "code",
   "execution_count": 67,
   "id": "1dd6aff0-cf79-40b1-b006-606ba3f8a3e5",
   "metadata": {
    "tags": []
   },
   "outputs": [
    {
     "data": {
      "text/plain": [
       "0    1774\n",
       "1      66\n",
       "Name: 심혈관질환, dtype: int64"
      ]
     },
     "execution_count": 67,
     "metadata": {},
     "output_type": "execute_result"
    }
   ],
   "source": [
    "df_ROS['심혈관질환'].value_counts()"
   ]
  },
  {
   "cell_type": "code",
   "execution_count": 78,
   "id": "a327b76f-2c17-406d-9147-48bbde36b907",
   "metadata": {
    "tags": []
   },
   "outputs": [
    {
     "data": {
      "text/plain": [
       "<Axes: xlabel='심혈관질환', ylabel='count'>"
      ]
     },
     "execution_count": 78,
     "metadata": {},
     "output_type": "execute_result"
    },
    {
     "data": {
      "image/png": "[encoded data removed]",
      "text/plain": [
       "<Figure size 640x480 with 1 Axes>"
      ]
     },
     "metadata": {},
     "output_type": "display_data"
    }
   ],
   "source": [
    "sns.countplot(data=df_ROS, x='심혈관질환')"
   ]
  }
 ],
 "metadata": {
  "kernelspec": {
   "display_name": "Python 3 (ipykernel)",
   "language": "python",
   "name": "python3"
  },
  "language_info": {
   "codemirror_mode": {
    "name": "ipython",
    "version": 3
   },
   "file_extension": ".py",
   "mimetype": "text/x-python",
   "name": "python",
   "nbconvert_exporter": "python",
   "pygments_lexer": "ipython3",
   "version": "3.11.3"
  }
 },
 "nbformat": 4,
 "nbformat_minor": 5
}
